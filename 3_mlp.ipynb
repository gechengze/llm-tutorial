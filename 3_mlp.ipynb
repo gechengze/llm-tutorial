{
 "cells": [
  {
   "cell_type": "code",
   "execution_count": 1,
   "id": "9064f5d0-58ee-45ca-bb39-dd809c931fb4",
   "metadata": {
    "editable": true,
    "slideshow": {
     "slide_type": ""
    },
    "tags": []
   },
   "outputs": [],
   "source": [
    "import torch\n",
    "import torchvision\n",
    "from torch import nn\n",
    "from torch.utils import data\n",
    "from torchvision import transforms\n",
    "import matplotlib.pyplot as plt"
   ]
  },
  {
   "cell_type": "markdown",
   "id": "68d4f652-a00b-433e-bd42-7d381824a12f",
   "metadata": {},
   "source": [
    "# 1. 多层感知机"
   ]
  },
  {
   "cell_type": "markdown",
   "id": "1dc19c86-b081-4cd1-9441-77fe1d8e0782",
   "metadata": {},
   "source": [
    "\n",
    "**隐藏层**\n",
    "\n",
    "我们在线性回归章节中描述了仿射变换，\n",
    "它是一种带有偏置项的线性变换。\n",
    "softmax回归的模型通过单个仿射变换将我们的输入直接映射到输出，然后进行softmax操作。\n",
    "如果我们的标签通过仿射变换后确实与我们的输入数据相关，那么这种方法确实足够了。\n",
    "但是，仿射变换中的*线性*是一个很强的假设。\n",
    "\n",
    "**线性模型可能会出错**\n",
    "\n",
    "例如，线性意味着*单调*假设：\n",
    "任何特征的增大都会导致模型输出的增大（如果对应的权重为正），\n",
    "或者导致模型输出的减小（如果对应的权重为负）。\n",
    "有时这是有道理的。\n",
    "例如，如果我们试图预测一个人是否会偿还贷款。\n",
    "我们可以认为，在其他条件不变的情况下，\n",
    "收入较高的申请人比收入较低的申请人更有可能偿还贷款。\n",
    "但是，虽然收入与还款概率存在单调性，但它们不是线性相关的。\n",
    "收入从0增加到5万，可能比从100万增加到105万带来更大的还款可能性。\n",
    "处理这一问题的一种方法是对我们的数据进行预处理，\n",
    "使线性变得更合理，如使用收入的对数作为我们的特征。\n",
    "\n",
    "然而我们可以很容易找出违反单调性的例子。\n",
    "例如，我们想要根据体温预测死亡率。\n",
    "对体温高于37摄氏度的人来说，温度越高风险越大。\n",
    "然而，对体温低于37摄氏度的人来说，温度越高风险就越低。\n",
    "在这种情况下，我们也可以通过一些巧妙的预处理来解决问题。\n",
    "例如，我们可以使用与37摄氏度的距离作为特征。\n",
    "\n",
    "但是，如何对猫和狗的图像进行分类呢？\n",
    "增加位置$(13, 17)$处像素的强度是否总是增加（或降低）图像描绘狗的似然？\n",
    "对线性模型的依赖对应于一个隐含的假设，\n",
    "即区分猫和狗的唯一要求是评估单个像素的强度。\n",
    "在一个倒置图像后依然保留类别的世界里，这种方法注定会失败。\n",
    "\n",
    "与我们前面的例子相比，这里的线性很荒谬，\n",
    "而且我们难以通过简单的预处理来解决这个问题。\n",
    "这是因为任何像素的重要性都以复杂的方式取决于该像素的上下文（周围像素的值）。\n",
    "我们的数据可能会有一种表示，这种表示会考虑到我们在特征之间的相关交互作用。\n",
    "在此表示的基础上建立一个线性模型可能会是合适的，\n",
    "但我们不知道如何手动计算这么一种表示。\n",
    "对于深度神经网络，我们使用观测数据来联合学习隐藏层表示和应用于该表示的线性预测器。\n",
    "\n",
    "**在网络中加入隐藏层**\n",
    "\n",
    "我们可以通过在网络中加入一个或多个隐藏层来克服线性模型的限制，\n",
    "使其能处理更普遍的函数关系类型。\n",
    "要做到这一点，最简单的方法是将许多全连接层堆叠在一起。\n",
    "每一层都输出到上面的层，直到生成最后的输出。\n",
    "我们可以把前$L-1$层看作表示，把最后一层看作线性预测器。\n",
    "这种架构通常称为*多层感知机*（multilayer perceptron），通常缩写为*MLP*。\n",
    "下面，我们以图的方式描述了多层感知机\n",
    "\n",
    "![一个单隐藏层的多层感知机，具有5个隐藏单元](img/mlp.svg)\n",
    "\n",
    "这个多层感知机有4个输入，3个输出，其隐藏层包含5个隐藏单元。\n",
    "输入层不涉及任何计算，因此使用此网络产生输出只需要实现隐藏层和输出层的计算。\n",
    "因此，这个多层感知机中的层数为2。\n",
    "注意，这两个层都是全连接的。\n",
    "每个输入都会影响隐藏层中的每个神经元，\n",
    "而隐藏层中的每个神经元又会影响输出层中的每个神经元。\n",
    "\n",
    "具有全连接层的多层感知机的参数开销可能会高得令人望而却步。\n",
    "即使在不改变输入或输出大小的情况下，\n",
    "可能在参数节约和模型有效性之间进行权衡\n",
    "\n",
    "**从线性到非线性**\n",
    "\n",
    "同之前的章节一样，\n",
    "我们通过矩阵$\\mathbf{X} \\in \\mathbb{R}^{n \\times d}$\n",
    "来表示$n$个样本的小批量，\n",
    "其中每个样本具有$d$个输入特征。\n",
    "对于具有$h$个隐藏单元的单隐藏层多层感知机，\n",
    "用$\\mathbf{H} \\in \\mathbb{R}^{n \\times h}$表示隐藏层的输出，\n",
    "称为*隐藏表示*（hidden representations）。\n",
    "在数学或代码中，$\\mathbf{H}$也被称为*隐藏层变量*（hidden-layer variable）\n",
    "或*隐藏变量*（hidden variable）。\n",
    "因为隐藏层和输出层都是全连接的，\n",
    "所以我们有隐藏层权重$\\mathbf{W}^{(1)} \\in \\mathbb{R}^{d \\times h}$\n",
    "和隐藏层偏置$\\mathbf{b}^{(1)} \\in \\mathbb{R}^{1 \\times h}$\n",
    "以及输出层权重$\\mathbf{W}^{(2)} \\in \\mathbb{R}^{h \\times q}$\n",
    "和输出层偏置$\\mathbf{b}^{(2)} \\in \\mathbb{R}^{1 \\times q}$。\n",
    "形式上，我们按如下方式计算单隐藏层多层感知机的输出\n",
    "$\\mathbf{O} \\in \\mathbb{R}^{n \\times q}$：\n",
    "\n",
    "$$\n",
    "\\begin{aligned}\n",
    "    \\mathbf{H} & = \\mathbf{X} \\mathbf{W}^{(1)} + \\mathbf{b}^{(1)}, \\\\\n",
    "    \\mathbf{O} & = \\mathbf{H}\\mathbf{W}^{(2)} + \\mathbf{b}^{(2)}.\n",
    "\\end{aligned}\n",
    "$$\n",
    "\n",
    "注意在添加隐藏层之后，模型现在需要跟踪和更新额外的参数。\n",
    "可我们能从中得到什么好处呢？在上面定义的模型里，我们没有好处！\n",
    "原因很简单：上面的隐藏单元由输入的仿射函数给出，\n",
    "而输出（softmax操作前）只是隐藏单元的仿射函数。\n",
    "仿射函数的仿射函数本身就是仿射函数，\n",
    "但是我们之前的线性模型已经能够表示任何仿射函数。\n",
    "\n",
    "我们可以证明这一等价性，即对于任意权重值，\n",
    "我们只需合并隐藏层，便可产生具有参数\n",
    "$\\mathbf{W} = \\mathbf{W}^{(1)}\\mathbf{W}^{(2)}$\n",
    "和$\\mathbf{b} = \\mathbf{b}^{(1)} \\mathbf{W}^{(2)} + \\mathbf{b}^{(2)}$\n",
    "的等价单层模型：\n",
    "\n",
    "$$\n",
    "\\mathbf{O} = (\\mathbf{X} \\mathbf{W}^{(1)} + \\mathbf{b}^{(1)})\\mathbf{W}^{(2)} + \\mathbf{b}^{(2)} = \\mathbf{X} \\mathbf{W}^{(1)}\\mathbf{W}^{(2)} + \\mathbf{b}^{(1)} \\mathbf{W}^{(2)} + \\mathbf{b}^{(2)} = \\mathbf{X} \\mathbf{W} + \\mathbf{b}.\n",
    "$$\n",
    "\n",
    "为了发挥多层架构的潜力，\n",
    "我们还需要一个额外的关键要素：\n",
    "在仿射变换之后对每个隐藏单元应用非线性的*激活函数*（activation function）$\\sigma$。\n",
    "激活函数的输出（例如，$\\sigma(\\cdot)$）被称为*活性值*（activations）。\n",
    "一般来说，有了激活函数，就不可能再将我们的多层感知机退化成线性模型：\n",
    "\n",
    "$$\n",
    "\\begin{aligned}\n",
    "    \\mathbf{H} & = \\sigma(\\mathbf{X} \\mathbf{W}^{(1)} + \\mathbf{b}^{(1)}), \\\\\n",
    "    \\mathbf{O} & = \\mathbf{H}\\mathbf{W}^{(2)} + \\mathbf{b}^{(2)}.\\\\\n",
    "\\end{aligned}\n",
    "$$\n",
    "\n",
    "为了构建更通用的多层感知机，\n",
    "我们可以继续堆叠这样的隐藏层，\n",
    "例如$\\mathbf{H}^{(1)} = \\sigma_1(\\mathbf{X} \\mathbf{W}^{(1)} + \\mathbf{b}^{(1)})$和$\\mathbf{H}^{(2)} = \\sigma_2(\\mathbf{H}^{(1)} \\mathbf{W}^{(2)} + \\mathbf{b}^{(2)})$，\n",
    "一层叠一层，从而产生更有表达能力的模型。\n",
    "\n",
    "**通用近似定理**\n",
    "\n",
    "多层感知机可以通过隐藏神经元，捕捉到输入之间复杂的相互作用，\n",
    "这些神经元依赖于每个输入的值。\n",
    "我们可以很容易地设计隐藏节点来执行任意计算。\n",
    "例如，在一对输入上进行基本逻辑操作，多层感知机是通用近似器。\n",
    "即使是网络只有一个隐藏层，给定足够的神经元和正确的权重，\n",
    "我们可以对任意函数建模，尽管实际中学习该函数是很困难的。\n",
    "神经网络有点像C语言。\n",
    "C语言和任何其他现代编程语言一样，能够表达任何可计算的程序。\n",
    "但实际上，想出一个符合规范的程序才是最困难的部分。\n",
    "\n",
    "而且，虽然一个单隐层网络能学习任何函数，\n",
    "但并不意味着我们应该尝试使用单隐藏层网络来解决所有问题。\n",
    "事实上，通过使用更深（而不是更广）的网络，我们可以更容易地逼近许多函数。\n",
    "我们将在后面的章节中进行更细致的讨论。"
   ]
  },
  {
   "cell_type": "markdown",
   "id": "c0a4368d-0d70-4db5-a3b4-cb38226bfb4b",
   "metadata": {
    "editable": true,
    "slideshow": {
     "slide_type": ""
    },
    "tags": []
   },
   "source": [
    "# 2. 激活函数"
   ]
  },
  {
   "cell_type": "markdown",
   "id": "8f539a34-65bf-4283-adaa-d2d001803a35",
   "metadata": {},
   "source": [
    "*激活函数*（activation function）通过计算加权和并加上偏置来确定神经元是否应该被激活，\n",
    "它们将输入信号转换为输出的可微运算。\n",
    "大多数激活函数都是非线性的。\n",
    "由于激活函数是深度学习的基础，下面(**简要介绍一些常见的激活函数**)。"
   ]
  },
  {
   "cell_type": "markdown",
   "id": "bb9fdfec-4412-4076-841c-e3a073507436",
   "metadata": {},
   "source": [
    "## 2.1 ReLU"
   ]
  },
  {
   "cell_type": "markdown",
   "id": "bad35c08-7f6d-483e-8c98-cb1315866315",
   "metadata": {},
   "source": [
    "最受欢迎的激活函数是*修正线性单元*（Rectified linear unit，*ReLU*），\n",
    "因为它实现简单，同时在各种预测任务中表现良好。\n",
    "[**ReLU提供了一种非常简单的非线性变换**]。\n",
    "给定元素$x$，ReLU函数被定义为该元素与$0$的最大值：\n",
    "\n",
    "**$$\\operatorname{ReLU}(x) = \\max(x, 0).$$**\n",
    "\n",
    "通俗地说，ReLU函数通过将相应的活性值设为0，仅保留正元素并丢弃所有负元素。\n",
    "为了直观感受一下，我们可以画出函数的曲线图。\n",
    "正如从图中所看到，激活函数是分段线性的。"
   ]
  },
  {
   "cell_type": "code",
   "execution_count": 2,
   "id": "8f7ae3b1-ddcc-4c6b-9499-caa7ae3cf494",
   "metadata": {
    "editable": true,
    "slideshow": {
     "slide_type": ""
    },
    "tags": []
   },
   "outputs": [
    {
     "data": {
      "text/plain": [
       "[<matplotlib.lines.Line2D at 0x169f09910>]"
      ]
     },
     "execution_count": 2,
     "metadata": {},
     "output_type": "execute_result"
    },
    {
     "data": {
      "image/png": "[encoded data removed]",
      "text/plain": [
       "<Figure size 640x480 with 1 Axes>"
      ]
     },
     "metadata": {},
     "output_type": "display_data"
    }
   ],
   "source": [
    "x = torch.arange(-8.0, 8.0, 0.1, requires_grad=True)\n",
    "y = torch.relu(x)\n",
    "plt.grid()\n",
    "plt.plot(x.detach().numpy(), y.detach().numpy())"
   ]
  },
  {
   "cell_type": "markdown",
   "id": "1a3702d7-8417-422d-a9bc-daa2d1f7ec8c",
   "metadata": {},
   "source": [
    "当输入为负时，ReLU函数的导数为0，而当输入为正时，ReLU函数的导数为1。\n",
    "注意，当输入值精确等于0时，ReLU函数不可导。\n",
    "在此时，我们默认使用左侧的导数，即当输入为0时导数为0。\n",
    "我们可以忽略这种情况，因为输入可能永远都不会是0。\n",
    "这里引用一句古老的谚语，“如果微妙的边界条件很重要，我们很可能是在研究数学而非工程”，\n",
    "这个观点正好适用于这里。\n",
    "下面我们绘制ReLU函数的导数。"
   ]
  },
  {
   "cell_type": "code",
   "execution_count": 3,
   "id": "f0f712be-5738-4b95-83ca-d2c15c46d451",
   "metadata": {
    "editable": true,
    "slideshow": {
     "slide_type": ""
    },
    "tags": []
   },
   "outputs": [
    {
     "data": {
      "text/plain": [
       "[<matplotlib.lines.Line2D at 0x169f7f590>]"
      ]
     },
     "execution_count": 3,
     "metadata": {},
     "output_type": "execute_result"
    },
    {
     "data": {
      "image/png": "[encoded data removed]",
      "text/plain": [
       "<Figure size 640x480 with 1 Axes>"
      ]
     },
     "metadata": {},
     "output_type": "display_data"
    }
   ],
   "source": [
    "y.backward(torch.ones_like(x), retain_graph=True)\n",
    "plt.grid()\n",
    "plt.plot(x.detach().numpy(), x.grad.numpy())"
   ]
  },
  {
   "cell_type": "markdown",
   "id": "b9e29821-c153-4abf-8967-2970e4364bf6",
   "metadata": {
    "editable": true,
    "slideshow": {
     "slide_type": ""
    },
    "tags": []
   },
   "source": [
    "使用ReLU的原因是，它求导表现得特别好：要么让参数消失，要么让参数通过。\n",
    "这使得优化表现得更好，并且ReLU减轻了困扰以往神经网络的梯度消失问题（稍后将详细介绍）。\n",
    "\n",
    "注意，ReLU函数有许多变体，包括*参数化ReLU*（Parameterized ReLU，*pReLU*）函数。\n",
    "该变体为ReLU添加了一个线性项，因此即使参数是负的，某些信息仍然可以通过：\n",
    "\n",
    "$$\\operatorname{pReLU}(x) = \\max(0, x) + \\alpha \\min(0, x).$$"
   ]
  },
  {
   "cell_type": "markdown",
   "id": "a914a507-c450-4df7-91dd-7f39151a3d75",
   "metadata": {},
   "source": [
    "## 2.2 sigmoid函数"
   ]
  },
  {
   "cell_type": "markdown",
   "id": "1be03474-a774-4ea5-92d2-c96cdeac14dd",
   "metadata": {},
   "source": [
    "对于一个定义域在$\\mathbb{R}$中的输入，*sigmoid函数*将输入变换为区间(0, 1)上的输出，\n",
    "因此，sigmoid通常称为*挤压函数*（squashing function）：\n",
    "它将范围（-inf, inf）中的任意输入压缩到区间（0, 1）中的某个值：\n",
    "\n",
    "**$$\\operatorname{sigmoid}(x) = \\frac{1}{1 + \\exp(-x)}.$$**\n",
    "\n",
    "在最早的神经网络中，科学家们感兴趣的是对“激发”或“不激发”的生物神经元进行建模。\n",
    "因此，这一领域的先驱可以一直追溯到人工神经元的发明者麦卡洛克和皮茨，他们专注于阈值单元。\n",
    "阈值单元在其输入低于某个阈值时取值0，当输入超过阈值时取值1。\n",
    "\n",
    "当人们逐渐关注到到基于梯度的学习时，\n",
    "sigmoid函数是一个自然的选择，因为它是一个平滑的、可微的阈值单元近似。\n",
    "当我们想要将输出视作二元分类问题的概率时，\n",
    "sigmoid仍然被广泛用作输出单元上的激活函数\n",
    "（sigmoid可以视为softmax的特例）。\n",
    "然而，sigmoid在隐藏层中已经较少使用，\n",
    "它在大部分时候被更简单、更容易训练的ReLU所取代。\n",
    "在后面关于循环神经网络的章节中，我们将描述利用sigmoid单元来控制时序信息流的架构。\n",
    "\n",
    "下面，我们绘制sigmoid函数。\n",
    "注意，当输入接近0时，sigmoid函数接近线性变换。"
   ]
  },
  {
   "cell_type": "code",
   "execution_count": 4,
   "id": "9151666e-b01f-470d-a5e5-3c51603f1b8c",
   "metadata": {
    "editable": true,
    "slideshow": {
     "slide_type": ""
    },
    "tags": []
   },
   "outputs": [
    {
     "data": {
      "text/plain": [
       "[<matplotlib.lines.Line2D at 0x169fff250>]"
      ]
     },
     "execution_count": 4,
     "metadata": {},
     "output_type": "execute_result"
    },
    {
     "data": {
      "image/png": "[encoded data removed]",
      "text/plain": [
       "<Figure size 640x480 with 1 Axes>"
      ]
     },
     "metadata": {},
     "output_type": "display_data"
    }
   ],
   "source": [
    "y = torch.sigmoid(x)\n",
    "plt.grid()\n",
    "plt.plot(x.detach().numpy(), y.detach().numpy())"
   ]
  },
  {
   "cell_type": "markdown",
   "id": "ae1f3abb-b16e-4852-bf7b-fad58974f234",
   "metadata": {
    "editable": true,
    "slideshow": {
     "slide_type": ""
    },
    "tags": []
   },
   "source": [
    "sigmoid函数的导数为下面的公式：\n",
    "\n",
    "$$\\frac{d}{dx} \\operatorname{sigmoid}(x) = \\frac{\\exp(-x)}{(1 + \\exp(-x))^2} = \\operatorname{sigmoid}(x)\\left(1-\\operatorname{sigmoid}(x)\\right).$$\n",
    "\n",
    "sigmoid函数的导数图像如下所示。\n",
    "注意，当输入为0时，sigmoid函数的导数达到最大值0.25；\n",
    "而输入在任一方向上越远离0点时，导数越接近0。"
   ]
  },
  {
   "cell_type": "code",
   "execution_count": 5,
   "id": "77696655-de17-4cce-a85c-9dc8a2ebea07",
   "metadata": {
    "editable": true,
    "slideshow": {
     "slide_type": ""
    },
    "tags": []
   },
   "outputs": [
    {
     "data": {
      "text/plain": [
       "[<matplotlib.lines.Line2D at 0x169ffde50>]"
      ]
     },
     "execution_count": 5,
     "metadata": {},
     "output_type": "execute_result"
    },
    {
     "data": {
      "image/png": "[encoded data removed]",
      "text/plain": [
       "<Figure size 640x480 with 1 Axes>"
      ]
     },
     "metadata": {},
     "output_type": "display_data"
    }
   ],
   "source": [
    "x.grad.data.zero_()  # 清除以前的梯度\n",
    "y.backward(torch.ones_like(x),retain_graph=True)\n",
    "plt.grid()\n",
    "plt.plot(x.detach().numpy(), x.grad)"
   ]
  },
  {
   "cell_type": "markdown",
   "id": "e60baee0-db5d-4470-bc12-f953d847c4d6",
   "metadata": {
    "editable": true,
    "slideshow": {
     "slide_type": ""
    },
    "tags": []
   },
   "source": [
    "## 2.3 tanh函数"
   ]
  },
  {
   "cell_type": "markdown",
   "id": "6bb846fb-2f89-4444-8eb0-0121dc0ac051",
   "metadata": {},
   "source": [
    "与sigmoid函数类似，\n",
    "[**tanh(双曲正切)函数也能将其输入压缩转换到区间(-1, 1)上**]。\n",
    "tanh函数的公式如下：\n",
    "\n",
    "**$$\\operatorname{tanh}(x) = \\frac{1 - \\exp(-2x)}{1 + \\exp(-2x)}.$$**\n",
    "\n",
    "下面我们绘制tanh函数。\n",
    "注意，当输入在0附近时，tanh函数接近线性变换。\n",
    "函数的形状类似于sigmoid函数，\n",
    "不同的是tanh函数关于坐标系原点中心对称。"
   ]
  },
  {
   "cell_type": "code",
   "execution_count": 6,
   "id": "c53a1ae1-c4d2-4b6b-8740-d0017cae0db3",
   "metadata": {
    "editable": true,
    "slideshow": {
     "slide_type": ""
    },
    "tags": []
   },
   "outputs": [
    {
     "data": {
      "text/plain": [
       "[<matplotlib.lines.Line2D at 0x16a284610>]"
      ]
     },
     "execution_count": 6,
     "metadata": {},
     "output_type": "execute_result"
    },
    {
     "data": {
      "image/png": "[encoded data removed]",
      "text/plain": [
       "<Figure size 640x480 with 1 Axes>"
      ]
     },
     "metadata": {},
     "output_type": "display_data"
    }
   ],
   "source": [
    "y = torch.tanh(x)\n",
    "plt.grid()\n",
    "plt.plot(x.detach().numpy(), y.detach().numpy())"
   ]
  },
  {
   "cell_type": "markdown",
   "id": "4f60d381-b4d5-4d88-a7b4-adf14213051a",
   "metadata": {
    "editable": true,
    "slideshow": {
     "slide_type": ""
    },
    "tags": []
   },
   "source": [
    "tanh函数的导数是：\n",
    "\n",
    "$$\\frac{d}{dx} \\operatorname{tanh}(x) = 1 - \\operatorname{tanh}^2(x).$$\n",
    "\n",
    "tanh函数的导数图像如下所示。\n",
    "当输入接近0时，tanh函数的导数接近最大值1。\n",
    "与我们在sigmoid函数图像中看到的类似，\n",
    "输入在任一方向上越远离0点，导数越接近0。\n"
   ]
  },
  {
   "cell_type": "code",
   "execution_count": 7,
   "id": "96c2e7c8-6487-45ae-855e-a11ec6522377",
   "metadata": {
    "editable": true,
    "slideshow": {
     "slide_type": ""
    },
    "tags": []
   },
   "outputs": [
    {
     "data": {
      "text/plain": [
       "[<matplotlib.lines.Line2D at 0x16a38d990>]"
      ]
     },
     "execution_count": 7,
     "metadata": {},
     "output_type": "execute_result"
    },
    {
     "data": {
      "image/png": "[encoded data removed]",
      "text/plain": [
       "<Figure size 640x480 with 1 Axes>"
      ]
     },
     "metadata": {},
     "output_type": "display_data"
    }
   ],
   "source": [
    "# 清除以前的梯度\n",
    "x.grad.data.zero_()\n",
    "y.backward(torch.ones_like(x),retain_graph=True)\n",
    "plt.grid()\n",
    "plt.plot(x.detach(), x.grad)"
   ]
  },
  {
   "cell_type": "markdown",
   "id": "a66b4a8e-1530-4299-92d2-8b2bf108775f",
   "metadata": {},
   "source": [
    "# 3. 代码实现"
   ]
  },
  {
   "cell_type": "code",
   "execution_count": 8,
   "id": "43953952-6c00-4638-8415-fe5bf151f259",
   "metadata": {
    "editable": true,
    "slideshow": {
     "slide_type": ""
    },
    "tags": []
   },
   "outputs": [
    {
     "data": {
      "text/plain": [
       "Sequential(\n",
       "  (0): Flatten(start_dim=1, end_dim=-1)\n",
       "  (1): Linear(in_features=784, out_features=256, bias=True)\n",
       "  (2): ReLU()\n",
       "  (3): Linear(in_features=256, out_features=10, bias=True)\n",
       ")"
      ]
     },
     "execution_count": 8,
     "metadata": {},
     "output_type": "execute_result"
    }
   ],
   "source": [
    "# 数据集，和之前一样\n",
    "def load_data_fashion_mnist(batch_size, resize=None):  #@save\n",
    "    \"\"\"下载Fashion-MNIST数据集，然后将其加载到内存中\"\"\"\n",
    "    trans = [transforms.ToTensor()]\n",
    "    if resize:\n",
    "        trans.insert(0, transforms.Resize(resize))\n",
    "    trans = transforms.Compose(trans)\n",
    "    mnist_train = torchvision.datasets.FashionMNIST(\n",
    "        root=\"data\", train=True, transform=trans, download=True)\n",
    "    mnist_test = torchvision.datasets.FashionMNIST(\n",
    "        root=\"data\", train=False, transform=trans, download=True)\n",
    "    return (data.DataLoader(mnist_train, batch_size, shuffle=True, num_workers=4),\n",
    "            data.DataLoader(mnist_test, batch_size, shuffle=False, num_workers=4))\n",
    "\n",
    "# 模型：与softmax回归的简洁实现相比，唯一的区别是我们添加了2个全连接层（之前我们只添加了1个全连接层）。\n",
    "# 第一层是隐藏层，包含256个隐藏单元，并使用了ReLU激活函数，第二层是输出层。\n",
    "\n",
    "net = nn.Sequential(\n",
    "    nn.Flatten(),\n",
    "    nn.Linear(784, 256),\n",
    "    nn.ReLU(),\n",
    "    nn.Linear(256, 10)\n",
    ")\n",
    "\n",
    "def init_weights(m):\n",
    "    if type(m) == nn.Linear:\n",
    "        nn.init.normal_(m.weight, std=0.01)\n",
    "\n",
    "net.apply(init_weights)"
   ]
  },
  {
   "cell_type": "code",
   "execution_count": 9,
   "id": "f8b296d8-3028-42e1-a68d-275a13cd04e2",
   "metadata": {
    "editable": true,
    "slideshow": {
     "slide_type": ""
    },
    "tags": []
   },
   "outputs": [
    {
     "name": "stdout",
     "output_type": "stream",
     "text": [
      "epoch: 1, loss: 1.0450\n",
      "epoch: 2, loss: 0.6028\n",
      "epoch: 3, loss: 0.5204\n",
      "epoch: 4, loss: 0.4777\n",
      "epoch: 5, loss: 0.4539\n",
      "epoch: 6, loss: 0.4325\n",
      "epoch: 7, loss: 0.4174\n",
      "epoch: 8, loss: 0.4039\n",
      "epoch: 9, loss: 0.3934\n",
      "epoch: 10, loss: 0.3830\n"
     ]
    }
   ],
   "source": [
    "# 训练\n",
    "batch_size, lr, num_epochs = 256, 0.1, 10\n",
    "loss = nn.CrossEntropyLoss(reduction='mean')\n",
    "optimizer = torch.optim.SGD(net.parameters(), lr=lr)\n",
    "\n",
    "train_iter, test_iter = load_data_fashion_mnist(batch_size=batch_size)\n",
    "\n",
    "for epoch in range(num_epochs):\n",
    "    num_steps = 0\n",
    "    total_train_loss = 0\n",
    "    for X, y in train_iter:\n",
    "        num_steps += 1\n",
    "        y_hat = net(X)\n",
    "        l = loss(y_hat, y)\n",
    "        optimizer.zero_grad()\n",
    "        total_train_loss += l.item() # 记录loss值\n",
    "        \n",
    "        l.sum().backward() # 反向传播\n",
    "        optimizer.step() # 更新参数\n",
    "\n",
    "    print(f'epoch: {epoch + 1}, loss: {format(total_train_loss / num_steps, \".4f\")}')\n",
    "\n",
    "# 预测：省略，参考softmax章节中对应代码"
   ]
  },
  {
   "cell_type": "code",
   "execution_count": null,
   "id": "7df78b10-de60-4369-b2c6-bb3b38e857c2",
   "metadata": {
    "editable": true,
    "slideshow": {
     "slide_type": ""
    },
    "tags": []
   },
   "outputs": [],
   "source": []
  }
 ],
 "metadata": {
  "kernelspec": {
   "display_name": "Python 3 (ipykernel)",
   "language": "python",
   "name": "python3"
  },
  "language_info": {
   "codemirror_mode": {
    "name": "ipython",
    "version": 3
   },
   "file_extension": ".py",
   "mimetype": "text/x-python",
   "name": "python",
   "nbconvert_exporter": "python",
   "pygments_lexer": "ipython3",
   "version": "3.11.5"
  }
 },
 "nbformat": 4,
 "nbformat_minor": 5
}
