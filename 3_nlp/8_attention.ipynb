{
 "cells": [
  {
   "cell_type": "markdown",
   "id": "7c870ae7-c37d-4a48-aac9-6b1bab1c0393",
   "metadata": {},
   "source": [
    "![img](../img/attention1.png)"
   ]
  },
  {
   "cell_type": "markdown",
   "id": "6bc82698-405d-4cae-8a38-70d6c6d70736",
   "metadata": {},
   "source": [
    "![img](../img/attention2.png)"
   ]
  },
  {
   "cell_type": "markdown",
   "id": "335e7144-ef85-41b5-9c09-94a5765fbf69",
   "metadata": {},
   "source": [
    "![img](../img/attention3.png)"
   ]
  },
  {
   "cell_type": "markdown",
   "id": "b2fecf72-9d66-4686-8c08-2db26f77d3be",
   "metadata": {},
   "source": [
    "创建 query、key、value 向量序列 Q K V ，并且使用点积作为相似度函数来计算注意力分数"
   ]
  },
  {
   "cell_type": "code",
   "execution_count": 4,
   "id": "b6b41e42-dac7-415e-a35a-7f48c62cf4aa",
   "metadata": {},
   "outputs": [
    {
     "name": "stdout",
     "output_type": "stream",
     "text": [
      "torch.Size([2, 4, 4])\n"
     ]
    }
   ],
   "source": [
    "import torch\n",
    "from math import sqrt\n",
    "\n",
    "Q = K = V = torch.rand(2, 4, 768)\n",
    "dim_k = K.size(-1)\n",
    "scores = torch.bmm(Q, K.transpose(1,2)) / sqrt(dim_k)\n",
    "print(scores.size())"
   ]
  },
  {
   "cell_type": "markdown",
   "id": "253b8881-724f-4fd8-93bd-69c7f8b44ce9",
   "metadata": {},
   "source": [
    "这里 Q K 的序列长度都为 5，因此生成了一个 5 x 5 的注意力分数矩阵，接下来就是应用 Softmax 标准化注意力权重："
   ]
  },
  {
   "cell_type": "code",
   "execution_count": 5,
   "id": "94ce4846-d5f7-454f-a848-5e9265c97106",
   "metadata": {},
   "outputs": [
    {
     "name": "stdout",
     "output_type": "stream",
     "text": [
      "tensor([[1.0000, 1.0000, 1.0000, 1.0000],\n",
      "        [1.0000, 1.0000, 1.0000, 1.0000]])\n"
     ]
    }
   ],
   "source": [
    "import torch.nn.functional as F\n",
    "\n",
    "weights = F.softmax(scores, dim=-1)\n",
    "print(weights.sum(dim=-1))"
   ]
  },
  {
   "cell_type": "markdown",
   "id": "fbe360a1-a920-4fbf-a362-bc9091320c5e",
   "metadata": {},
   "source": [
    "最后将注意力权重与 value 序列相乘："
   ]
  },
  {
   "cell_type": "code",
   "execution_count": null,
   "id": "0bef5207-3a6a-434b-ad1b-6e32b40f182c",
   "metadata": {},
   "outputs": [
    {
     "name": "stdout",
     "output_type": "stream",
     "text": [
      "torch.Size([1, 5, 768])\n"
     ]
    }
   ],
   "source": [
    "attn_outputs = torch.bmm(weights, V)\n",
    "print(attn_outputs.shape)"
   ]
  },
  {
   "cell_type": "markdown",
   "id": "d5f5daae-8e10-4bce-b812-b76a464cabb4",
   "metadata": {},
   "source": [
    "至此就实现了一个简化版的 Scaled Dot-product Attention。可以将上面这些操作封装为函数以方便后续调用："
   ]
  },
  {
   "cell_type": "code",
   "execution_count": 6,
   "id": "cf51e69d-9cff-42fb-83c2-8723cbdeec96",
   "metadata": {},
   "outputs": [],
   "source": [
    "import torch\n",
    "import torch.nn.functional as F\n",
    "from math import sqrt\n",
    "\n",
    "def scaled_dot_product_attention(query, key, value, query_mask=None, key_mask=None, mask=None):\n",
    "    dim_k = query.size(-1)\n",
    "    scores = torch.bmm(query, key.transpose(1, 2)) / sqrt(dim_k)\n",
    "    if query_mask is not None and key_mask is not None:\n",
    "        mask = torch.bmm(query_mask.unsqueeze(-1), key_mask.unsqueeze(1))\n",
    "    if mask is not None:\n",
    "        scores = scores.masked_fill(mask == 0, -float(\"inf\"))\n",
    "    weights = F.softmax(scores, dim=-1)\n",
    "    return torch.bmm(weights, value)"
   ]
  },
  {
   "cell_type": "markdown",
   "id": "ad6e3dba-5783-4081-a236-afdc755d9e64",
   "metadata": {},
   "source": [
    "![img](../img/attention4.png)"
   ]
  },
  {
   "cell_type": "code",
   "execution_count": 7,
   "id": "7281e9a0-09f4-4d1d-9338-5f9f68061a36",
   "metadata": {},
   "outputs": [],
   "source": [
    "from torch import nn\n",
    "\n",
    "class AttentionHead(nn.Module):\n",
    "    def __init__(self, embed_dim, head_dim):\n",
    "        super().__init__()\n",
    "        self.q = nn.Linear(embed_dim, head_dim)\n",
    "        self.k = nn.Linear(embed_dim, head_dim)\n",
    "        self.v = nn.Linear(embed_dim, head_dim)\n",
    "\n",
    "    def forward(self, query, key, value, query_mask=None, key_mask=None, mask=None):\n",
    "        attn_outputs = scaled_dot_product_attention(\n",
    "            self.q(query), self.k(key), self.v(value), query_mask, key_mask, mask)\n",
    "        return attn_outputs"
   ]
  },
  {
   "cell_type": "markdown",
   "id": "9ed4fc78-71d6-4211-8bdf-7cd4b529a812",
   "metadata": {},
   "source": [
    "![img](../img/attention5.png)"
   ]
  },
  {
   "cell_type": "code",
   "execution_count": 8,
   "id": "39cbc3d7-d9b5-4fe4-b4c1-519be88d5c5f",
   "metadata": {},
   "outputs": [],
   "source": [
    "class MultiHeadAttention(nn.Module):\n",
    "    def __init__(self, embed_dim, num_heads, head_dim):\n",
    "        super().__init__()\n",
    "        head_dim = embed_dim // num_heads\n",
    "        self.heads = nn.ModuleList(\n",
    "            [AttentionHead(embed_dim, head_dim) for _ in range(num_heads)]\n",
    "        )\n",
    "        self.output_linear = nn.Linear(embed_dim, embed_dim)\n",
    "\n",
    "    def forward(self, query, key, value, query_mask=None, key_mask=None, mask=None):\n",
    "        x = torch.cat([\n",
    "            h(query, key, value, query_mask, key_mask, mask) for h in self.heads\n",
    "        ], dim=-1)\n",
    "        x = self.output_linear(x)\n",
    "        return x"
   ]
  },
  {
   "cell_type": "code",
   "execution_count": 9,
   "id": "1ae22376-d869-4215-bcb0-c6d843cf3a9a",
   "metadata": {},
   "outputs": [],
   "source": [
    "x = torch.rand(2, 4, 768)\n",
    "mha = MultiHeadAttention(embed_dim=768, num_heads=12, head_dim=64)"
   ]
  },
  {
   "cell_type": "code",
   "execution_count": 10,
   "id": "586c0ea2-bb76-41c4-a9c0-62581afa89a3",
   "metadata": {},
   "outputs": [
    {
     "data": {
      "text/plain": [
       "torch.Size([2, 4, 768])"
      ]
     },
     "execution_count": 10,
     "metadata": {},
     "output_type": "execute_result"
    }
   ],
   "source": [
    "y = mha(x, x, x)\n",
    "y.shape"
   ]
  }
 ],
 "metadata": {
  "kernelspec": {
   "display_name": "base",
   "language": "python",
   "name": "python3"
  },
  "language_info": {
   "codemirror_mode": {
    "name": "ipython",
    "version": 3
   },
   "file_extension": ".py",
   "mimetype": "text/x-python",
   "name": "python",
   "nbconvert_exporter": "python",
   "pygments_lexer": "ipython3",
   "version": "3.11.5"
  }
 },
 "nbformat": 4,
 "nbformat_minor": 5
}
